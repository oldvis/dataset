{
 "cells": [
  {
   "attachments": {},
   "cell_type": "markdown",
   "metadata": {},
   "source": [
    "# Merge Images\n",
    "\n",
    "This notebook copies the visualization images of different data sources into a single directory."
   ]
  },
  {
   "cell_type": "code",
   "execution_count": null,
   "metadata": {},
   "outputs": [],
   "source": [
    "import json\n",
    "import os\n",
    "import shutil\n",
    "\n",
    "output_dir = \"./output\"\n",
    "if not os.path.exists(output_dir):\n",
    "    os.makedirs(output_dir)\n",
    "\n",
    "with open(\"../output/visualizations.json\", \"r\", encoding=\"utf-8\") as f:\n",
    "    visualizations = json.load(f)\n",
    "uuids = set(d[\"uuid\"] for d in visualizations)\n",
    "\n",
    "img_dirs = [\n",
    "    \"../../data-sources/alabama-maps/imgs/\",\n",
    "    \"../../data-sources/british-library-collection-items/imgs/\",\n",
    "    \"../../data-sources/british-library-images-online/imgs/\",\n",
    "    \"../../data-sources/david-rumsey-map-collection/output/imgs/\",\n",
    "    \"../../data-sources/gallica/imgs/\",\n",
    "    \"../../data-sources/internet-archive/imgs/\",\n",
    "    \"../../data-sources/library-of-congress/imgs/\",\n",
    "    \"../../data-sources/telefact/imgs/\",\n",
    "]\n",
    "\n",
    "for img_dir in img_dirs:\n",
    "    filenames = os.listdir(img_dir)\n",
    "    for filename in filenames:\n",
    "        uuid = filename.split(\".\")[0]\n",
    "        if uuid in uuids:\n",
    "            shutil.copy(\n",
    "                os.path.join(img_dir, filename),\n",
    "                os.path.join(output_dir, filename),\n",
    "            )"
   ]
  }
 ],
 "metadata": {
  "hide_input": false,
  "kernelspec": {
   "display_name": "server-xpWdyGJa-py3.10",
   "language": "python",
   "name": "python3"
  },
  "language_info": {
   "codemirror_mode": {
    "name": "ipython",
    "version": 3
   },
   "file_extension": ".py",
   "mimetype": "text/x-python",
   "name": "python",
   "nbconvert_exporter": "python",
   "pygments_lexer": "ipython3",
   "version": "3.10.16"
  },
  "toc": {
   "base_numbering": 1,
   "nav_menu": {},
   "number_sections": true,
   "sideBar": true,
   "skip_h1_title": false,
   "title_cell": "Table of Contents",
   "title_sidebar": "Contents",
   "toc_cell": false,
   "toc_position": {},
   "toc_section_display": true,
   "toc_window_display": false
  },
  "varInspector": {
   "cols": {
    "lenName": 16,
    "lenType": 16,
    "lenVar": 40
   },
   "kernels_config": {
    "python": {
     "delete_cmd_postfix": "",
     "delete_cmd_prefix": "del ",
     "library": "var_list.py",
     "varRefreshCmd": "print(var_dic_list())"
    },
    "r": {
     "delete_cmd_postfix": ") ",
     "delete_cmd_prefix": "rm(",
     "library": "var_list.r",
     "varRefreshCmd": "cat(var_dic_list()) "
    }
   },
   "types_to_exclude": [
    "module",
    "function",
    "builtin_function_or_method",
    "instance",
    "_Feature"
   ],
   "window_display": false
  }
 },
 "nbformat": 4,
 "nbformat_minor": 2
}
