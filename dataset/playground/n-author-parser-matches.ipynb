{
 "cells": [
  {
   "cell_type": "markdown",
   "metadata": {},
   "source": [
    "# Matches Per Author Name Parsing Rule\n",
    "\n",
    "This notebook reports the number of matches per author name parsing rule."
   ]
  },
  {
   "cell_type": "code",
   "execution_count": 1,
   "metadata": {},
   "outputs": [],
   "source": [
    "from copy import deepcopy\n",
    "from typing import Dict, List, Union\n",
    "from statistics import stdev\n",
    "\n",
    "import pandas as pd\n",
    "\n",
    "\n",
    "def get_name_source(visualizations: List[Dict]) -> List[Dict]:\n",
    "    name_source = []\n",
    "    for d in visualizations:\n",
    "        authors = d[\"authors\"]\n",
    "        if authors is None:\n",
    "            continue\n",
    "        for author in authors:\n",
    "            name_source.append(\n",
    "                {\n",
    "                    \"author\": author,\n",
    "                    \"source\": d[\"source\"][\"name\"],\n",
    "                }\n",
    "            )\n",
    "    name_source = pd.DataFrame(name_source).drop_duplicates().to_dict(\"records\")\n",
    "    return name_source\n",
    "\n",
    "\n",
    "def get_rules_matches(rules: List[Dict], visualizations: List[Dict]) -> List[Dict]:\n",
    "    name_source = get_name_source(visualizations)\n",
    "    rules_matches = deepcopy(rules)\n",
    "    rules_matches = [{\"rule\": d, \"matches\": []} for d in rules_matches]\n",
    "    for d in rules_matches:\n",
    "        for ns in name_source:\n",
    "            if d[\"rule\"][\"substring\"] in ns[\"author\"]:\n",
    "                d[\"matches\"].append(deepcopy(ns))\n",
    "    return rules_matches\n",
    "\n",
    "\n",
    "def profile(values: List[Union[int, float]]) -> None:\n",
    "    print(\"N =\", len(values))\n",
    "\n",
    "    min_value = min(values)\n",
    "    n_min = sum([d == min_value for d in values])\n",
    "    print(f\"Min = {min_value} ({n_min} times)\")\n",
    "\n",
    "    max_value = max(values)\n",
    "    n_max = sum([d == max_value for d in values])\n",
    "    print(f\"Max = {max_value} ({n_max} times)\")\n",
    "\n",
    "    print(\"Mean =\", sum(values) / len(values))\n",
    "    print(\"SD =\", stdev(values))"
   ]
  },
  {
   "cell_type": "code",
   "execution_count": 2,
   "metadata": {},
   "outputs": [
    {
     "name": "stdout",
     "output_type": "stream",
     "text": [
      "----------\n",
      "statistics for #matched entries for each rule:\n",
      "N = 214\n",
      "Min = 0 (3 times)\n",
      "Max = 8 (1 times)\n",
      "Mean = 1.0981308411214954\n",
      "SD = 0.6010134333935282\n",
      "----------\n",
      "statistics for #matched sources for each rule\n",
      "N = 214\n",
      "Min = 0 (3 times)\n",
      "Max = 2 (4 times)\n",
      "Mean = 1.0046728971962617\n",
      "SD = 0.18122337399123967\n",
      "----------\n"
     ]
    }
   ],
   "source": [
    "import sys\n",
    "\n",
    "sys.path.append(\"../\")\n",
    "\n",
    "from builders.authors.rules.replace_substring import rules\n",
    "from builders import build_visualizations\n",
    "from _loader import load_zipped_processed_metadata\n",
    "\n",
    "path_data_sources = \"../../data-sources\"\n",
    "dataset_paths = [\n",
    "    f\"{path_data_sources}/alabama-maps\",\n",
    "    f\"{path_data_sources}/british-library-collection-items\",\n",
    "    f\"{path_data_sources}/british-library-images-online\",\n",
    "    f\"{path_data_sources}/david-rumsey-map-collection\",\n",
    "    f\"{path_data_sources}/gallica\",\n",
    "    f\"{path_data_sources}/internet-archive\",\n",
    "    f\"{path_data_sources}/library-of-congress\",\n",
    "    f\"{path_data_sources}/telefact\",\n",
    "]\n",
    "processed_metadata = load_zipped_processed_metadata(dataset_paths)\n",
    "visualizations = build_visualizations(processed_metadata)\n",
    "rules_matches = get_rules_matches(rules, visualizations)\n",
    "rules_matches_stats = deepcopy(rules_matches)\n",
    "for entry in rules_matches_stats:\n",
    "    entry[\"nMatches\"] = len(entry[\"matches\"])\n",
    "    entry[\"matchedSources\"] = [*set(d[\"source\"] for d in entry[\"matches\"])]\n",
    "    entry[\"nMatchedSources\"] = len(entry[\"matchedSources\"])\n",
    "\n",
    "print(\"----------\")\n",
    "print(\"statistics for #matched entries for each rule:\")\n",
    "profile([d[\"nMatches\"] for d in rules_matches_stats])\n",
    "print(\"----------\")\n",
    "print(\"statistics for #matched sources for each rule\")\n",
    "profile([d[\"nMatchedSources\"] for d in rules_matches_stats])\n",
    "print(\"----------\")"
   ]
  }
 ],
 "metadata": {
  "hide_input": false,
  "kernelspec": {
   "display_name": "2022.HistVis-dataset-Oq_aYEyy",
   "language": "python",
   "name": "python3"
  },
  "language_info": {
   "codemirror_mode": {
    "name": "ipython",
    "version": 3
   },
   "file_extension": ".py",
   "mimetype": "text/x-python",
   "name": "python",
   "nbconvert_exporter": "python",
   "pygments_lexer": "ipython3",
   "version": "3.10.8"
  },
  "toc": {
   "base_numbering": 1,
   "nav_menu": {},
   "number_sections": true,
   "sideBar": true,
   "skip_h1_title": false,
   "title_cell": "Table of Contents",
   "title_sidebar": "Contents",
   "toc_cell": false,
   "toc_position": {},
   "toc_section_display": true,
   "toc_window_display": false
  },
  "varInspector": {
   "cols": {
    "lenName": 16,
    "lenType": 16,
    "lenVar": 40
   },
   "kernels_config": {
    "python": {
     "delete_cmd_postfix": "",
     "delete_cmd_prefix": "del ",
     "library": "var_list.py",
     "varRefreshCmd": "print(var_dic_list())"
    },
    "r": {
     "delete_cmd_postfix": ") ",
     "delete_cmd_prefix": "rm(",
     "library": "var_list.r",
     "varRefreshCmd": "cat(var_dic_list()) "
    }
   },
   "types_to_exclude": [
    "module",
    "function",
    "builtin_function_or_method",
    "instance",
    "_Feature"
   ],
   "window_display": false
  },
  "vscode": {
   "interpreter": {
    "hash": "13b766b64f2581178979f553f83340756309cef187dea4dab9b494e16f71a89c"
   }
  }
 },
 "nbformat": 4,
 "nbformat_minor": 2
}
