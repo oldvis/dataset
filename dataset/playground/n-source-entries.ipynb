{
 "cells": [
  {
   "attachments": {},
   "cell_type": "markdown",
   "metadata": {},
   "source": [
    "# Entries Per Data Source\n",
    "\n",
    "This notebook reports the number of entries per data source."
   ]
  },
  {
   "cell_type": "code",
   "execution_count": 1,
   "metadata": {},
   "outputs": [],
   "source": [
    "from copy import deepcopy\n",
    "from typing import List\n",
    "\n",
    "import pandas as pd\n",
    "from IPython.display import display, Markdown\n",
    "\n",
    "import sys\n",
    "\n",
    "sys.path.append(\"../\")\n",
    "\n",
    "from builders import build_visualizations\n",
    "from _loader import load_zipped_json\n",
    "\n",
    "\n",
    "def get_path_all(path_data_source: str) -> str:\n",
    "    return f\"{path_data_source}/output/metadata-processed/all.zip\"\n",
    "\n",
    "\n",
    "def get_path_vis(path_data_source: str) -> str:\n",
    "    return f\"{path_data_source}/output/metadata-processed/visualizations.zip\"\n",
    "\n",
    "\n",
    "def get_markdown_data(data_sources: List) -> List:\n",
    "    \"\"\"\n",
    "    Edit the input data sources to save information\n",
    "    for generating a markdown table.\n",
    "    \"\"\"\n",
    "\n",
    "    data_sources = deepcopy(data_sources)\n",
    "\n",
    "    for d in data_sources:\n",
    "        path_vis = get_path_vis(d[\"pathDataSource\"])\n",
    "        processed_metadata_vis = build_visualizations(load_zipped_json(path_vis))\n",
    "        d[\"#oldvis\"] = len(processed_metadata_vis)\n",
    "\n",
    "        path_all = get_path_all(d[\"pathDataSource\"])\n",
    "        processed_metadata_all = load_zipped_json(path_all)\n",
    "        d[\"#all\"] = len(processed_metadata_all)\n",
    "\n",
    "        d[\"name\"] = f\"[{d['name']}]({d['url']})\"\n",
    "        del d[\"url\"]\n",
    "\n",
    "        path_data_dir = f\"{d['pathDataSource']}/output/metadata-processed/\"\n",
    "        d[\"data files\"] = f\"[link]({path_data_dir})\"\n",
    "        del d[\"pathDataSource\"]\n",
    "\n",
    "    data_sources.append(\n",
    "        {\n",
    "            \"name\": \"Total\",\n",
    "            \"#oldvis\": sum([d[\"#oldvis\"] for d in data_sources]),\n",
    "            \"#all\": sum([d[\"#all\"] for d in data_sources]),\n",
    "            \"data files\": \"/\",\n",
    "        }\n",
    "    )\n",
    "\n",
    "    return data_sources\n",
    "\n",
    "\n",
    "def print_markdown_table(data_sources: List) -> None:\n",
    "    data_sources = get_markdown_data(data_sources)\n",
    "    df = pd.DataFrame(data_sources)\n",
    "    display(Markdown(df.to_markdown(index=False)))\n",
    "\n",
    "\n",
    "path_to_data_sources = \"../../data-sources\"\n",
    "data_sources = [\n",
    "    {\n",
    "        \"name\": \"Alabama Maps\",\n",
    "        \"url\": \"http://alabamamaps.ua.edu/historicalmaps/\",\n",
    "        \"pathDataSource\": f\"{path_to_data_sources}/alabama-maps\",\n",
    "    },\n",
    "    {\n",
    "        \"name\": \"British Library Collection Items\",\n",
    "        \"url\": \"https://www.bl.uk/collection-items\",\n",
    "        \"pathDataSource\": f\"{path_to_data_sources}/british-library-collection-items\",\n",
    "    },\n",
    "    {\n",
    "        \"name\": \"British Library Images Online\",\n",
    "        \"url\": \"https://imagesonline.bl.uk/\",\n",
    "        \"pathDataSource\": f\"{path_to_data_sources}/british-library-images-online\",\n",
    "    },\n",
    "    {\n",
    "        \"name\": \"David Rumsey Map Collection\",\n",
    "        \"url\": \"https://www.davidrumsey.com/\",\n",
    "        \"pathDataSource\": f\"{path_to_data_sources}/david-rumsey-map-collection\",\n",
    "    },\n",
    "    {\n",
    "        \"name\": \"Gallica\",\n",
    "        \"url\": \"https://gallica.bnf.fr/\",\n",
    "        \"pathDataSource\": f\"{path_to_data_sources}/gallica\",\n",
    "    },\n",
    "    {\n",
    "        \"name\": \"Internet Archive\",\n",
    "        \"url\": \"https://archive.org/\",\n",
    "        \"pathDataSource\": f\"{path_to_data_sources}/internet-archive\",\n",
    "    },\n",
    "    {\n",
    "        \"name\": \"Library of Congress\",\n",
    "        \"url\": \"https://www.loc.gov/\",\n",
    "        \"pathDataSource\": f\"{path_to_data_sources}/library-of-congress\",\n",
    "    },\n",
    "    {\n",
    "        \"name\": \"Telefact\",\n",
    "        \"url\": \"https://modley-telefact-1939-1945.tumblr.com/\",\n",
    "        \"pathDataSource\": f\"{path_to_data_sources}/telefact\",\n",
    "    },\n",
    "]"
   ]
  },
  {
   "cell_type": "markdown",
   "metadata": {},
   "source": [
    "## Result"
   ]
  },
  {
   "cell_type": "code",
   "execution_count": 2,
   "metadata": {},
   "outputs": [
    {
     "data": {
      "text/markdown": [
       "| name                                                                   |   #oldvis |   #all | data files                                                                             |\n",
       "|:-----------------------------------------------------------------------|----------:|-------:|:---------------------------------------------------------------------------------------|\n",
       "| [Alabama Maps](http://alabamamaps.ua.edu/historicalmaps/)              |        51 |    142 | [link](../../data-sources/alabama-maps/output/metadata-processed/)                     |\n",
       "| [British Library Collection Items](https://www.bl.uk/collection-items) |        94 |  32687 | [link](../../data-sources/british-library-collection-items/output/metadata-processed/) |\n",
       "| [British Library Images Online](https://imagesonline.bl.uk/)           |        38 |   6647 | [link](../../data-sources/british-library-images-online/output/metadata-processed/)    |\n",
       "| [David Rumsey Map Collection](https://www.davidrumsey.com/)            |      7816 |  25581 | [link](../../data-sources/david-rumsey-map-collection/output/metadata-processed/)      |\n",
       "| [Gallica](https://gallica.bnf.fr/)                                     |      2090 | 195644 | [link](../../data-sources/gallica/output/metadata-processed/)                          |\n",
       "| [Internet Archive](https://archive.org/)                               |      2985 |  82389 | [link](../../data-sources/internet-archive/output/metadata-processed/)                 |\n",
       "| [Library of Congress](https://www.loc.gov/)                            |       212 |  63370 | [link](../../data-sources/library-of-congress/output/metadata-processed/)              |\n",
       "| [Telefact](https://modley-telefact-1939-1945.tumblr.com/)              |       225 |    264 | [link](../../data-sources/telefact/output/metadata-processed/)                         |\n",
       "| Total                                                                  |     13511 | 406724 | /                                                                                      |"
      ],
      "text/plain": [
       "<IPython.core.display.Markdown object>"
      ]
     },
     "metadata": {},
     "output_type": "display_data"
    }
   ],
   "source": [
    "print_markdown_table(data_sources)"
   ]
  }
 ],
 "metadata": {
  "hide_input": false,
  "kernelspec": {
   "display_name": "2022.HistVis-dataset-Oq_aYEyy",
   "language": "python",
   "name": "python3"
  },
  "language_info": {
   "codemirror_mode": {
    "name": "ipython",
    "version": 3
   },
   "file_extension": ".py",
   "mimetype": "text/x-python",
   "name": "python",
   "nbconvert_exporter": "python",
   "pygments_lexer": "ipython3",
   "version": "3.10.8"
  },
  "toc": {
   "base_numbering": 1,
   "nav_menu": {},
   "number_sections": true,
   "sideBar": true,
   "skip_h1_title": false,
   "title_cell": "Table of Contents",
   "title_sidebar": "Contents",
   "toc_cell": false,
   "toc_position": {},
   "toc_section_display": true,
   "toc_window_display": false
  },
  "varInspector": {
   "cols": {
    "lenName": 16,
    "lenType": 16,
    "lenVar": 40
   },
   "kernels_config": {
    "python": {
     "delete_cmd_postfix": "",
     "delete_cmd_prefix": "del ",
     "library": "var_list.py",
     "varRefreshCmd": "print(var_dic_list())"
    },
    "r": {
     "delete_cmd_postfix": ") ",
     "delete_cmd_prefix": "rm(",
     "library": "var_list.r",
     "varRefreshCmd": "cat(var_dic_list()) "
    }
   },
   "types_to_exclude": [
    "module",
    "function",
    "builtin_function_or_method",
    "instance",
    "_Feature"
   ],
   "window_display": false
  },
  "vscode": {
   "interpreter": {
    "hash": "13b766b64f2581178979f553f83340756309cef187dea4dab9b494e16f71a89c"
   }
  }
 },
 "nbformat": 4,
 "nbformat_minor": 2
}
