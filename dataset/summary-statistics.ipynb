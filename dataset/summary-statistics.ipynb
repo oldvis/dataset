{
 "cells": [
  {
   "attachments": {},
   "cell_type": "markdown",
   "metadata": {},
   "source": [
    "# Summary Statistics\n",
    "\n",
    "This notebook reports summary statistics of the metadata."
   ]
  },
  {
   "cell_type": "code",
   "execution_count": 1,
   "metadata": {},
   "outputs": [
    {
     "data": {
      "text/markdown": [
       "| name                                                                   |   #oldvis |   #all | data files                                                                          |\n",
       "|:-----------------------------------------------------------------------|----------:|-------:|:------------------------------------------------------------------------------------|\n",
       "| [Alabama Maps](http://alabamamaps.ua.edu/historicalmaps/)              |        51 |    142 | [link](../data-sources/alabama-maps/output/metadata-processed/)                     |\n",
       "| [British Library Collection Items](https://www.bl.uk/collection-items) |        94 |  32687 | [link](../data-sources/british-library-collection-items/output/metadata-processed/) |\n",
       "| [British Library Images Online](https://imagesonline.bl.uk/)           |        38 |   6647 | [link](../data-sources/british-library-images-online/output/metadata-processed/)    |\n",
       "| [David Rumsey Map Collection](https://www.davidrumsey.com/)            |      7816 |  25581 | [link](../data-sources/david-rumsey-map-collection/output/metadata-processed/)      |\n",
       "| [Gallica](https://gallica.bnf.fr/)                                     |      2090 | 195644 | [link](../data-sources/gallica/output/metadata-processed/)                          |\n",
       "| [Internet Archive](https://archive.org/)                               |      2985 |  82389 | [link](../data-sources/internet-archive/output/metadata-processed/)                 |\n",
       "| [Library of Congress](https://www.loc.gov/)                            |       212 |  63370 | [link](../data-sources/library-of-congress/output/metadata-processed/)              |\n",
       "| [Telefact](https://modley-telefact-1939-1945.tumblr.com/)              |       225 |    264 | [link](../data-sources/telefact/output/metadata-processed/)                         |\n",
       "| Total                                                                  |     13511 | 406724 | /                                                                                   |"
      ],
      "text/plain": [
       "<IPython.core.display.Markdown object>"
      ]
     },
     "metadata": {},
     "output_type": "display_data"
    }
   ],
   "source": [
    "from get_statistics import data_sources, print_markdown_table\n",
    "\n",
    "print_markdown_table(data_sources)"
   ]
  }
 ],
 "metadata": {
  "hide_input": false,
  "kernelspec": {
   "display_name": "2022.HistVis-dataset-Oq_aYEyy",
   "language": "python",
   "name": "python3"
  },
  "language_info": {
   "codemirror_mode": {
    "name": "ipython",
    "version": 3
   },
   "file_extension": ".py",
   "mimetype": "text/x-python",
   "name": "python",
   "nbconvert_exporter": "python",
   "pygments_lexer": "ipython3",
   "version": "3.10.8"
  },
  "toc": {
   "base_numbering": 1,
   "nav_menu": {},
   "number_sections": true,
   "sideBar": true,
   "skip_h1_title": false,
   "title_cell": "Table of Contents",
   "title_sidebar": "Contents",
   "toc_cell": false,
   "toc_position": {},
   "toc_section_display": true,
   "toc_window_display": false
  },
  "varInspector": {
   "cols": {
    "lenName": 16,
    "lenType": 16,
    "lenVar": 40
   },
   "kernels_config": {
    "python": {
     "delete_cmd_postfix": "",
     "delete_cmd_prefix": "del ",
     "library": "var_list.py",
     "varRefreshCmd": "print(var_dic_list())"
    },
    "r": {
     "delete_cmd_postfix": ") ",
     "delete_cmd_prefix": "rm(",
     "library": "var_list.r",
     "varRefreshCmd": "cat(var_dic_list()) "
    }
   },
   "types_to_exclude": [
    "module",
    "function",
    "builtin_function_or_method",
    "instance",
    "_Feature"
   ],
   "window_display": false
  },
  "vscode": {
   "interpreter": {
    "hash": "13b766b64f2581178979f553f83340756309cef187dea4dab9b494e16f71a89c"
   }
  }
 },
 "nbformat": 4,
 "nbformat_minor": 2
}
